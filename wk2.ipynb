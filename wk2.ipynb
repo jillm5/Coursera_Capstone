{
    "nbformat_minor": 1, 
    "cells": [
        {
            "source": "### Assignment 2\nWelcome to Assignment 2. This will be fun. It is the first time you actually access external data from ApacheSpark. \n\nJust make sure you hit the play button on each cell from top to down. There are three functions you have to implement. Please also make sure than on each change on a function you hit the play button again on the corresponding cell to make it available to the rest of this notebook.\n\n##### Please also make sure to only implement the function bodies and DON'T add any additional code outside functions since this might confuse the autograder.", 
            "cell_type": "markdown", 
            "metadata": {}
        }, 
        {
            "source": "So the function below is used to make it easy for you to create a data frame from a cloudant data frame using the so called \"DataSource\" which is some sort of a plugin which allows ApacheSpark to use different data sources.", 
            "cell_type": "markdown", 
            "metadata": {}
        }, 
        {
            "source": "This is the first function you have to implement. You are passed a dataframe object. We've also registered the dataframe in the ApacheSparkSQL catalog - so you can also issue queries against the \"washing\" table using \"spark.sql()\". Hint: To get an idea about the contents of the catalog you can use: spark.catalog.listTables().\nSo now it's time to implement your first function. You are free to use the dataframe API, SQL or RDD API. In case you want to use the RDD API just obtain the encapsulated RDD using \"df.rdd\". You can test the function by running one of the three last cells of this notebook, but please make sure you run the cells from top to down since some are dependant of each other...", 
            "cell_type": "markdown", 
            "metadata": {}
        }, 
        {
            "execution_count": 121, 
            "cell_type": "code", 
            "metadata": {}, 
            "outputs": [], 
            "source": "def count(df,spark):\n    count=spark.sql(\"select count(*) as cnt from washing\").first().cnt\n    print(count)\n    #print(df.count())\n    return \n"
        }, 
        {
            "source": "No it's time to implement the second function. Please return an integer containing the number of fields. The most easy way to get this is using the dataframe API. Hint: You might find the dataframe API documentation useful: http://spark.apache.org/docs/latest/api/python/pyspark.sql.html#pyspark.sql.DataFrame", 
            "cell_type": "markdown", 
            "metadata": {}
        }, 
        {
            "execution_count": 134, 
            "cell_type": "code", 
            "metadata": {}, 
            "outputs": [], 
            "source": "def getNumberOfFields(df,spark):\n    print(len(df.columns))\n    return "
        }, 
        {
            "source": "Finally, please implement a function which returns a (python) list of string values of the field names in this data frame. Hint: Just copy&past doesn't work because the auto-grader will create a random data frame for testing, so please use the data frame API as well. Again, this is the link to the documentation: http://spark.apache.org/docs/latest/api/python/pyspark.sql.html#pyspark.sql.DataFrame", 
            "cell_type": "markdown", 
            "metadata": {}
        }, 
        {
            "execution_count": 123, 
            "cell_type": "code", 
            "metadata": {}, 
            "outputs": [], 
            "source": "def getFieldNames(df,spark):\n    print(df.columns)\n    return "
        }, 
        {
            "source": "### PLEASE DON'T REMOVE THIS BLOCK - THE FOLLOWING CODE IS NOT GRADED\n#axx\n### PLEASE DON'T REMOVE THIS BLOCK - THE FOLLOWING CODE IS NOT GRADED\nSo after this block you can basically do what you like since the auto-grader is not considering this part of the notebook", 
            "cell_type": "markdown", 
            "metadata": {}
        }, 
        {
            "source": "Now it is time to connect to the cloudant database. Please have a look at the Video \"Overview of end-to-end scenario\" of Week 2 starting from 6:40 in order to learn how to obtain the credentials for the database. Please paste this credentials as strings into the below code\n\n### TODO Please provide your Cloudant credentials here", 
            "cell_type": "markdown", 
            "metadata": {}
        }, 
        {
            "execution_count": 124, 
            "cell_type": "code", 
            "metadata": {}, 
            "outputs": [], 
            "source": "# The code was removed by Watson Studio for sharing."
        }, 
        {
            "execution_count": 125, 
            "cell_type": "code", 
            "metadata": {}, 
            "outputs": [], 
            "source": "#Please don't modify this function\ndef readDataFrameFromCloudant(database):\n    cloudantdata=spark.read.load(database, \"com.cloudant.spark\")\n\n    cloudantdata.createOrReplaceTempView(\"washing\")\n    spark.sql(\"SELECT * from washing\").show()\n    return cloudantdata"
        }, 
        {
            "execution_count": 126, 
            "cell_type": "code", 
            "metadata": {}, 
            "outputs": [], 
            "source": "spark = SparkSession\\\n    .builder\\\n    .appName(\"Cloudant Spark SQL Example in Python using temp tables\")\\\n    .config(\"cloudant.host\",credentials_2['custom_url'].split(':')[2].split('@')[1])\\\n    .config(\"cloudant.username\", credentials_2['username'])\\\n    .config(\"cloudant.password\",credentials_2['password'])\\\n    .config(\"jsonstore.rdd.partitions\", 1)\\\n    .getOrCreate()\n"
        }, 
        {
            "execution_count": 142, 
            "cell_type": "code", 
            "metadata": {}, 
            "outputs": [
                {
                    "output_type": "stream", 
                    "name": "stdout", 
                    "text": "+--------------------+--------------------+-----+--------+----------+---------+--------+-----+-----------+-------------+-------+\n|                 _id|                _rev|count|flowrate|fluidlevel|frequency|hardness|speed|temperature|           ts|voltage|\n+--------------------+--------------------+-----+--------+----------+---------+--------+-----+-----------+-------------+-------+\n|064417a5794199a10...|1-075f14c47969bf0...|  139|      11|acceptable|     null|     190| null|         83|1548449640391|   null|\n|064417a5794199a10...|1-ce49a13ff2ef67a...|   30|    null|      null|     null|    null| 1033|       null|1548449648922|   null|\n|064417a5794199a10...|1-a6d5304244999ce...|  151|      11|acceptable|     null|      70| null|         96|1548449652435|   null|\n|064417a5794199a10...|1-c11c1b6a997af31...|   51|    null|      null|       70|    null| null|       null|1548449654029|    235|\n|064417a5794199a10...|1-f2ba7b0b3a70360...|   56|    null|      null|       73|    null| null|       null|1548449669033|    236|\n|064417a5794199a10...|1-6cec2fe9241203f...|  170|      11|acceptable|     null|      80| null|         98|1548449671475|   null|\n|064417a5794199a10...|1-2a6e95962656f84...|   38|    null|      null|     null|    null| 1099|       null|1548449688932|   null|\n|064417a5794199a10...|1-c5b1293cf06068d...|   63|    null|      null|       65|    null| null|       null|1548449690039|    235|\n|064417a5794199a10...|1-81952ed3cad9c8b...|  206|      11|acceptable|     null|      76| null|         84|1548449707535|   null|\n|064417a5794199a10...|1-f9e297d873fc6d4...|  207|      11|acceptable|     null|      72| null|         90|1548449708537|   null|\n|064417a5794199a10...|1-90f0f7855bef8c3...|   70|    null|      null|       73|    null| null|       null|1548449711052|    237|\n|064417a5794199a10...|1-659c78be68f039e...|  212|      11|acceptable|     null|      79| null|         91|1548449713544|   null|\n|064417a5794199a10...|1-5b0303e6c4acca1...|  217|      11|acceptable|     null|      77| null|         97|1548449718552|   null|\n|064417a5794199a10...|1-eaf0b297ee307d9...|   75|    null|      null|       73|    null| null|       null|1548449726058|    226|\n|064417a5794199a10...|1-35d6c43daed1c10...|  228|      11|acceptable|     null|      71| null|         94|1548449729569|   null|\n|064417a5794199a10...|1-26fda25f56caca3...|  235|      11|acceptable|     null|      75| null|         86|1548449736578|   null|\n|064417a5794199a10...|1-a06f02da0b505f1...|  239|      11|acceptable|     null|      72| null|         92|1548449740583|   null|\n|064417a5794199a10...|1-db5c9a6c3c873b5...|  243|      11|acceptable|     null|     105| null|         92|1548449744586|   null|\n|064417a5794199a10...|1-e4e06f57c51a51e...|  259|      11|acceptable|     null|     185| null|         95|1548449760609|   null|\n|064417a5794199a10...|1-1f4fdd146d6e17a...|   87|    null|      null|       77|    null| null|       null|1548449762075|    228|\n+--------------------+--------------------+-----+--------+----------+---------+--------+-----+-----------+-------------+-------+\nonly showing top 20 rows\n\n"
                }
            ], 
            "source": "df=readDataFrameFromCloudant(database)"
        }, 
        {
            "source": "The following cell can be used to test your count function", 
            "cell_type": "markdown", 
            "metadata": {}
        }, 
        {
            "execution_count": 143, 
            "cell_type": "code", 
            "metadata": {}, 
            "outputs": [
                {
                    "output_type": "stream", 
                    "name": "stdout", 
                    "text": "2908\n"
                }
            ], 
            "source": "count(df,spark)"
        }, 
        {
            "source": "The following cell can be used to test your getNumberOfFields function", 
            "cell_type": "markdown", 
            "metadata": {}
        }, 
        {
            "execution_count": 144, 
            "cell_type": "code", 
            "metadata": {}, 
            "outputs": [
                {
                    "output_type": "stream", 
                    "name": "stdout", 
                    "text": "11\n"
                }
            ], 
            "source": "getNumberOfFields(df,spark)"
        }, 
        {
            "source": "The following cell can be used to test your getFieldNames function", 
            "cell_type": "markdown", 
            "metadata": {}
        }, 
        {
            "execution_count": 120, 
            "cell_type": "code", 
            "metadata": {}, 
            "outputs": [
                {
                    "output_type": "stream", 
                    "name": "stdout", 
                    "text": "['_id', '_rev', 'count', 'flowrate', 'fluidlevel', 'frequency', 'hardness', 'speed', 'temperature', 'ts', 'voltage']\n"
                }
            ], 
            "source": "getFieldNames(df,spark)"
        }, 
        {
            "source": "Congratulations, you are done. So please export this notebook as python script using the \"File->Download as->Python (.py)\" option in the menue of this notebook. This file should be named \"assignment2.1.py\" and uploaded to the autograder of week2.", 
            "cell_type": "markdown", 
            "metadata": {}
        }
    ], 
    "metadata": {
        "kernelspec": {
            "display_name": "Python 3.5 with Spark 2.1", 
            "name": "python3-spark21", 
            "language": "python"
        }, 
        "language_info": {
            "mimetype": "text/x-python", 
            "nbconvert_exporter": "python", 
            "version": "3.5.4", 
            "name": "python", 
            "file_extension": ".py", 
            "pygments_lexer": "ipython3", 
            "codemirror_mode": {
                "version": 3, 
                "name": "ipython"
            }
        }
    }, 
    "nbformat": 4
}